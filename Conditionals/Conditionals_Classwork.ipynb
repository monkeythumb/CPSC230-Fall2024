{
  "nbformat": 4,
  "nbformat_minor": 0,
  "metadata": {
    "colab": {
      "provenance": []
    },
    "kernelspec": {
      "name": "python3",
      "display_name": "Python 3"
    },
    "language_info": {
      "name": "python"
    }
  },
  "cells": [
    {
      "cell_type": "code",
      "execution_count": null,
      "metadata": {
        "id": "MHZGqFmldXPD"
      },
      "outputs": [],
      "source": [
        "'''\n",
        "1. Use an if statement to print out \"This is positive\" if a number\n",
        "is positive.\n",
        "'''\n"
      ]
    },
    {
      "cell_type": "code",
      "source": [
        "'''\n",
        "2. Ask the user to input a word. Store it in the variable x. Use\n",
        "an if statement to check whether that word is \"portmanteau\". If it\n",
        "is, print \"Your word is my favorite word!\". Otherwise, print\n",
        "\"K.\"\n",
        "'''\n"
      ],
      "metadata": {
        "id": "OjJq8ZpYdf5n"
      },
      "execution_count": null,
      "outputs": []
    },
    {
      "cell_type": "code",
      "source": [
        "'''\n",
        "3. You can use the len() function to check the length (# of characters)\n",
        "in a string (see example below). Ask the user to input a word and store\n",
        "it in the variable my_word. Using len() and an if statement, write some\n",
        "code that checks whether the length of a word is less than or equal to\n",
        "10. If it is, print out \"Wow, short word.\"\n",
        "'''\n",
        "\n",
        "g = len(\"Hello World\") # 11"
      ],
      "metadata": {
        "id": "qeolq3aidkmh"
      },
      "execution_count": null,
      "outputs": []
    },
    {
      "cell_type": "code",
      "source": [
        "'''\n",
        "4. Write some code that asks the user to input their favorite course (e.g.\n",
        "CPSC 392). Check whether their favorite course is CPSC 230. If it is, print\n",
        "out \"Me too!\".\n",
        "'''\n"
      ],
      "metadata": {
        "id": "KYMzRjBBdtoL"
      },
      "execution_count": null,
      "outputs": []
    },
    {
      "cell_type": "code",
      "source": [
        "'''\n",
        "5. Ask the user to input a number. Make sure to cast it to an int. Then,\n",
        "Check whether they're number is divisible by 13. If it is print out\n",
        "\"Wow, this number is divisible by 13\". Otherwise print out nothing.\n",
        "'''\n"
      ],
      "metadata": {
        "id": "nX1kakb6duBb"
      },
      "execution_count": null,
      "outputs": []
    },
    {
      "cell_type": "code",
      "source": [
        "'''\n",
        "1. Help me figure out where to go on campus! On MW I tech in Keck.\n",
        "On TTh I teach in the Library. And on Friday I work in my office in\n",
        "Swenson Hall. On the weekend I am at home.\n",
        "\n",
        "Write a python script that asks me (the user) to input\n",
        "the day of the week and use ifs/elifs/elses to print out where I should\n",
        "be based on what day it is (either Keck, Library, Swenson, or Home).\n",
        "'''\n"
      ],
      "metadata": {
        "id": "s-PT6-ageJeh"
      },
      "execution_count": null,
      "outputs": []
    },
    {
      "cell_type": "code",
      "source": [
        "'''\n",
        "2. Create some code that checks whether a number is even.\n",
        "If it is,  print \"even\", otherwise print \"odd\". If the number\n",
        "is 0, print \"this is neither even, nor odd\".\n",
        "'''\n"
      ],
      "metadata": {
        "id": "B6saocZAeLgt"
      },
      "execution_count": null,
      "outputs": []
    },
    {
      "cell_type": "code",
      "source": [
        "'''\n",
        "3. Pretend you're writing some code for a convience store. Ask the user to\n",
        "input the name of an item (such as diapers, milk, lipgloss, moisturizer...etc).\n",
        "Check if the item is either \"cigarettes\" or \"alcohol\". If it is, ask the user\n",
        "how old they are and make sure they're old enough to buy the item (18 for\n",
        "cigarettes and 21 for alcohol). If they're not old enough, print \"Sorry I can't\n",
        "sell you that.\", If they are old enough, OR they're buying something else, print\n",
        "\"Thank you for your purchase\".\n",
        "'''\n"
      ],
      "metadata": {
        "id": "UWA3kweneOIk"
      },
      "execution_count": null,
      "outputs": []
    },
    {
      "cell_type": "code",
      "source": [
        "'''\n",
        "4. Ask a user to input an integer, then check if that integer is even and\n",
        "greater than 17. If it is print \"yes!\".\n",
        "'''\n"
      ],
      "metadata": {
        "id": "5j3n7hTxeQvf"
      },
      "execution_count": null,
      "outputs": []
    },
    {
      "cell_type": "code",
      "source": [
        "'''\n",
        "5. Translate the following if statements into conditional expressions.\n",
        "'''\n",
        "\n",
        "# if 1\n",
        "x = 10\n",
        "# ------------------------------------------\n",
        "if x == 7:\n",
        "    print(\"That's a lucky Number!\")\n",
        "else:\n",
        "    print(\"okay.\")\n",
        "# ------------------------------------------\n",
        "\n",
        "# if 2\n",
        "late_days = int(input(\"How many late days do you get?\"))\n",
        "\n",
        "# ------------------------------------------\n",
        "if late_days == 3:\n",
        "    print(\"Correct!\")\n",
        "else:\n",
        "    print(\"WRONG.\")\n",
        "# ------------------------------------------\n",
        "\n",
        "# if 3\n",
        "string = \"kayak\"\n",
        "\n",
        "# ------------------------------------------\n",
        "if string == string[::-1]: # using [::-1] reverses a string\n",
        "    print(\"palindrome\")\n",
        "else:\n",
        "    print(\"boring old word.\")\n",
        "# ------------------------------------------\n",
        "\n",
        "# if 4\n",
        "\n",
        "x = 12\n",
        "# check if number is divisible by 2 and 3.\n",
        "\n",
        "# ------------------------------------------\n",
        "if x%2 == 0 and x%3 == 0:\n",
        "    print(\"yes\")\n",
        "else:\n",
        "    print(\"no\")"
      ],
      "metadata": {
        "id": "Tb4ybEleev7b"
      },
      "execution_count": null,
      "outputs": []
    },
    {
      "cell_type": "code",
      "source": [
        "'''\n",
        "6. Pretend you run a movie theatre. Using if/elif/else statements as needed, write some\n",
        "code that asks the user to input their age. If customers are under 11, ask if\n",
        "they have an adult with them (yes/no), if they do, then ask them how many tickets\n",
        "they want. Tickets are $11.50 each (they get a student discount on all tickets).\n",
        "Print out their total cost. If they do not have an adult with them, print out a\n",
        "message saying they cannot buy any tickets. If the customer is older than 11,\n",
        "ask them how many tickets they want, and print out the price (Adults pay\n",
        "$13 per ticket).\n",
        "\n",
        "HINT: before you write out code, diagram this problem or write out the steps first.\n",
        "'''\n"
      ],
      "metadata": {
        "id": "Ktr2XtQ8genB"
      },
      "execution_count": null,
      "outputs": []
    },
    {
      "cell_type": "code",
      "source": [
        "'''\n",
        "7. Ask the user to input 3 integers which represent the lengths of the sides of\n",
        "a triangle. Write some code to check if the triangle is equilateral (all sides\n",
        "the same length), isosceles (two sides are equal), or obtuse (no sides are equal).\n",
        "\n",
        "Print out the result for the user to see.\n",
        "'''"
      ],
      "metadata": {
        "id": "h92S9xlTghf1"
      },
      "execution_count": null,
      "outputs": []
    },
    {
      "cell_type": "code",
      "source": [
        "'''\n",
        "8. Use if/elif/else to check whether a variable, x, is negative, zero, or positive.\n",
        "'''\n"
      ],
      "metadata": {
        "id": "IQrNZptmeHka"
      },
      "execution_count": null,
      "outputs": []
    },
    {
      "cell_type": "code",
      "source": [
        "'''\n",
        "9. Use if/elif/else statements to ask the user to input their grade as a percentage\n",
        "(0-100%), and print out whether they have an A, B, C, D or F. (Use 90,80,70,60,\n",
        "and < 60 as your grade cutoffs.)\n",
        "'''\n"
      ],
      "metadata": {
        "id": "r1BQvWHlgjr9"
      },
      "execution_count": null,
      "outputs": []
    }
  ]
}