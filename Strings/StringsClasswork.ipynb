{
 "cells": [
  {
   "cell_type": "code",
   "execution_count": null,
   "metadata": {},
   "outputs": [],
   "source": [
    "'''\n",
    "1. Which of these are strings?\n",
    "'''\n",
    "# hello\n",
    "# 'hello there'\n",
    "# \" 'Why, hello there...' \"\n",
    "# \"1.05\"\n",
    "# 23"
   ]
  },
  {
   "cell_type": "code",
   "execution_count": null,
   "metadata": {},
   "outputs": [],
   "source": [
    "'''\n",
    "2. Find the first, second, third, and last characters \n",
    "using indexing in the following string\n",
    "'''\n",
    "animal = \"kitten\""
   ]
  },
  {
   "cell_type": "code",
   "execution_count": null,
   "metadata": {},
   "outputs": [],
   "source": [
    "'''\n",
    "3. Have the user enter a string. Until the user enters a string\n",
    "that is longer than 7 characters, ask for a new string. Once the\n",
    "user enters a string longer than 7 characters, tell them how\n",
    "proud you are of them.\n",
    "'''"
   ]
  },
  {
   "cell_type": "code",
   "execution_count": 15,
   "metadata": {},
   "outputs": [
    {
     "name": "stdout",
     "output_type": "stream",
     "text": [
      "73\n"
     ]
    }
   ],
   "source": [
    "'''\n",
    "4. Find all of the numbers embedded within the following string\n",
    "and store them in a variables called nums.\n",
    "Once you have that number, divide the first three numbers by the\n",
    "last number you found.\n",
    "This is a very special number to a famous TV Character\n",
    "'''\n",
    "\n",
    "randomness_str = \"Kifbm$!kaf6afEF,iaf5kfiFKAfkRPmchaio7?EIKDfhD]jfa9(AfjvA\"\n",
    "\n",
    "nums = \"\"\n",
    "for char in randomness_str:\n",
    "    if char.isdigit():\n",
    "        nums += str(char)\n",
    "\n",
    "answer = int(nums[0:3]) // int(nums[-1])\n",
    "print(answer)"
   ]
  },
  {
   "cell_type": "code",
   "execution_count": null,
   "metadata": {},
   "outputs": [],
   "source": [
    "'''\n",
    "5. Ask the user for a word as input and store it in the variable, palindrome.\n",
    "Then, check whether their word is a palindrome (the same forwards and backwards\n",
    "like the word kayak). If it is, print out a message informing them.\n",
    "'''"
   ]
  },
  {
   "cell_type": "code",
   "execution_count": null,
   "metadata": {},
   "outputs": [],
   "source": [
    "'''\n",
    "6. Pretend your user is a Club Penguin player. Ask the user to input a message.\n",
    "Use the in operator to check if any of the following \"bad words\" are in the message\n",
    "a Club Penguin user is trying to type. If any of them are, print \"You're BLOCKED\". Otherwise\n",
    "print the message as is.\n",
    "\n",
    "BAD WORDS:\n",
    "- dang\n",
    "- gosh\n",
    "- shoot\n",
    "- fork\n",
    "- bench\n",
    "'''"
   ]
  },
  {
   "cell_type": "code",
   "execution_count": null,
   "metadata": {},
   "outputs": [],
   "source": [
    "'''\n",
    "7. I've placed a hidden message in this string.\n",
    "Can you figure out the message?\n",
    "Try different string methods to uncover it.\n",
    "Hint: They are all letters, so you can ignore the digits.\n",
    "'''\n",
    "hiddenMsg = \"kdiTakHoi03E;kfDkoAkj;kfR895KnvklKdfiNie4I59Ga;dHignT\""
   ]
  },
  {
   "cell_type": "code",
   "execution_count": null,
   "metadata": {},
   "outputs": [],
   "source": [
    "'''\n",
    "8. Ask the user to input two words of the SAME LENGTH. Using a WHILE loop, count\n",
    "how many letters are the same between the two strings. For example in spam and\n",
    "span, 3 of the letters (s,p,a) are the same. In the words bitter and better,\n",
    "5 of the letters are the same. Print out a message telling the user how many\n",
    "letters are the same.\n",
    "'''"
   ]
  },
  {
   "cell_type": "code",
   "execution_count": null,
   "metadata": {},
   "outputs": [],
   "source": [
    "'''\n",
    "9. 133+ (leet) speak is a way of writing english using symbols to replace many english\n",
    "letters. Use python to change the string below into leet speak based on the\n",
    "replacements listed below. Make sure to account for capitals!\n",
    "\n",
    "a = @\n",
    "b = |3\n",
    "e = 3\n",
    "l = 1\n",
    "o = 0\n",
    "s = $\n",
    "t = +\n",
    "'''\n",
    "\n",
    "my_string = \"Hello! I appear to be lost. Can someone direct me to the website Reddit? Bye!\""
   ]
  }
 ],
 "metadata": {
  "kernelspec": {
   "display_name": "Python 3",
   "language": "python",
   "name": "python3"
  },
  "language_info": {
   "codemirror_mode": {
    "name": "ipython",
    "version": 3
   },
   "file_extension": ".py",
   "mimetype": "text/x-python",
   "name": "python",
   "nbconvert_exporter": "python",
   "pygments_lexer": "ipython3",
   "version": "3.12.5"
  }
 },
 "nbformat": 4,
 "nbformat_minor": 2
}
