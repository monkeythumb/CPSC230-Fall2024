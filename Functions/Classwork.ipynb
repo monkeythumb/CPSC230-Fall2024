{
 "cells": [
  {
   "cell_type": "code",
   "execution_count": null,
   "metadata": {},
   "outputs": [],
   "source": [
    "'''\n",
    "1. Write a function, euclidean() that takes in 4 arguments, x1, x2, y1, and y2,\n",
    "and calculates (+ returns) the euclidean distance between the points (x1,y1) and (x2,y2).\n",
    "Make the default arguments 1 for all 4 arguments. \n",
    "Hint: use abs() and math.sqrt(). Think back to geometry.\n",
    "'''"
   ]
  },
  {
   "cell_type": "code",
   "execution_count": null,
   "metadata": {},
   "outputs": [],
   "source": [
    "'''\n",
    "2. Write a function pal_checker() that takes in a string, s, and returns True\n",
    "if it is a palindrome, and False if it is not. Make the default string \"kayak\".\n",
    "\n",
    "Make sure to account for upper and lower cases (e.g. Kayak is still okay).\n",
    "'''"
   ]
  },
  {
   "cell_type": "code",
   "execution_count": null,
   "metadata": {},
   "outputs": [],
   "source": [
    "'''\n",
    "3. Write a function squarer() that takes in a number, j, and prints out the\n",
    "squares of every number from 1 to j. \n",
    "'''"
   ]
  },
  {
   "cell_type": "code",
   "execution_count": null,
   "metadata": {},
   "outputs": [],
   "source": [
    "'''\n",
    "4. Write a function called factorial() that takes in an integer, n, and returns\n",
    "the factorial of that number. Make the default value 9.\n",
    "'''"
   ]
  },
  {
   "cell_type": "code",
   "execution_count": null,
   "metadata": {},
   "outputs": [],
   "source": [
    "'''\n",
    "5. Write a function adder_subtracter() that takes in a STRING, eq, which looks\n",
    "like '5 + 2' or '10 - 4' or '16 - 30' and performs the operation intended by\n",
    "the user, returning the result. Make the default string '1 + 1'.\n",
    "\n",
    "You can assume the structure will ALWAYS be:\n",
    "\n",
    "some number, a space, either + or -, a space, and then another number.\n",
    "\n",
    "However the numbers might be big like 19834.\n",
    "'''"
   ]
  },
  {
   "cell_type": "code",
   "execution_count": null,
   "metadata": {},
   "outputs": [],
   "source": [
    "'''\n",
    "6. Write a function dice_roller() which takes in no arguments, and usese the\n",
    "random.randint() function to \"roll\" a die, returning the value.\n",
    "'''\n"
   ]
  },
  {
   "cell_type": "code",
   "execution_count": null,
   "metadata": {},
   "outputs": [],
   "source": [
    "'''\n",
    "7. Extend you dice_roller() function to take in an argument, sides, which says\n",
    "the number of sides the die has. Set the default to six. Roll a d6 and a d20.\n",
    "'''"
   ]
  },
  {
   "cell_type": "code",
   "execution_count": null,
   "metadata": {},
   "outputs": [],
   "source": [
    "'''\n",
    "8. Write a Python function, add_tags() to create the HTML string with tags\n",
    "around the word(s). add_tags() should take in two arguments, the tag, and the\n",
    "string to tag. HTLM tags start with a '<' then have the tag, and end with a '>'.\n",
    "\n",
    "Set the default value for tags to be \"b\", and the default for the string to be\n",
    "an empty string.\n",
    "\n",
    "For example:\n",
    "\n",
    "add_tags('i', 'Samuel') -> '<i>Samuel</i>'\n",
    "add_tags('b', 'NO') -> '<b>NO</b>'\n",
    "\n",
    "'''"
   ]
  },
  {
   "cell_type": "code",
   "execution_count": null,
   "metadata": {},
   "outputs": [],
   "source": [
    "'''\n",
    "9. Write a function, nic_cager(), that takes in a string, and replaces any\n",
    "instance of the word \"you\" (any capitalization like \"you\", OR \"You\") with \"Nicholas Cage\". Return\n",
    "the new string. And set the default value to be \"I love you\". Call your function\n",
    "using the defaults.\n",
    "'''"
   ]
  }
 ],
 "metadata": {
  "language_info": {
   "name": "python"
  }
 },
 "nbformat": 4,
 "nbformat_minor": 2
}
