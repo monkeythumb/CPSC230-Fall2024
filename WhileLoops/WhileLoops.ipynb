{
 "cells": [
  {
   "cell_type": "code",
   "execution_count": null,
   "metadata": {},
   "outputs": [],
   "source": [
    "'''\n",
    "1. Write a program that asks the user to guess your age. If they\n",
    "guess too high, print out \"Wow, do I look that old?\". If they guess\n",
    "too low, print out \"Don't I look wiser than that?\". Once they\n",
    "guess correctly, print out a message telling them and exit the loop.\n",
    "'''"
   ]
  },
  {
   "cell_type": "code",
   "execution_count": null,
   "metadata": {},
   "outputs": [],
   "source": [
    "'''\n",
    "2. Ask the user to enter a potential password, and check if it meets the following criteria.\n",
    "If their password does not meet the criteria, tell them why, and ask them for a new password.\n",
    "Continue to ask them for a new password if their old one is bad.\n",
    "Make sure each password:\n",
    "\n",
    "- is at least 10 characters long\n",
    "- is not \"Password123\"\n",
    "- has an exclamation point in it (see example of in operator below)\n",
    "- has no spaces (see example of in operator below)\n",
    "- is less than 50 characters long\n",
    "'''\n",
    "\n",
    "# exclamation point\n",
    "### EXAMPLE CODE ###\n",
    "\"!\" in \"Hello!\" # this is True\n",
    "\"!\" in \"Hello\" # this is False\n",
    "\n",
    "# spaces\n",
    "### EXAMPLE CODE ###\n",
    "\" \" in \"This is Boring.\" # this is True\n",
    "\" \" in \"ThisIsBoring.\" # this is False\n"
   ]
  },
  {
   "cell_type": "code",
   "execution_count": null,
   "metadata": {},
   "outputs": [],
   "source": [
    "'''\n",
    "3. What's wrong with this while loop and how can you fix it?\n",
    "'''\n",
    "\n",
    "# x = 1\n",
    "# while x < 10:\n",
    "#     print(\"smol number\")\n",
    "# print(\"number is no longer smol\")"
   ]
  },
  {
   "cell_type": "code",
   "execution_count": null,
   "metadata": {},
   "outputs": [],
   "source": [
    "'''\n",
    "4. Write some code that asks the user to enter the course code (e.g. CPSC 230)\n",
    "for one of their classes. Then print out \"Great! [Course] sounds like a fun class!\",\n",
    "and ask them if they want to input another course that they're in. You should\n",
    "stop asking them for course codes once they enter an empty string \"\" instead of\n",
    "a course code (you'd do this by not entering anything in the prompt and just\n",
    "pressing Enter immediately).\n",
    "'''\n"
   ]
  },
  {
   "cell_type": "code",
   "execution_count": null,
   "metadata": {},
   "outputs": [],
   "source": [
    "'''\n",
    "5. Using a while loop, print out all the numbers between 1 and 200 that are\n",
    "divisible by both 5 and 9.\n",
    "'''"
   ]
  },
  {
   "cell_type": "code",
   "execution_count": null,
   "metadata": {},
   "outputs": [],
   "source": [
    "'''\n",
    "6. Using a while loop and continue, write some code that asks the user to input\n",
    "one single letter. If the letter is z or Z, print out \"I HAVE Z's!!!\", and do\n",
    "not finish this iteration of the loop.\n",
    "\n",
    "Otherwise, add the letter they've inputted to a string, my_string, that stores\n",
    "all the characters they've input so far (remember the + operator for strings).\n",
    "If they enter an empty string \"\", stop the loop. Print out my_string at the end.\n",
    "\n",
    "What happens when the user enters more than one character?\n",
    "Why is this?\n",
    "'''\n",
    "\n",
    "# my_string = \"\" # to keep track of inputs\n",
    "\n",
    "# inputs = input(\"Enter one Letter\") # current input"
   ]
  },
  {
   "cell_type": "markdown",
   "metadata": {},
   "source": [
    "Source: Dr. Chelsea Parlett-Pelleriti"
   ]
  }
 ],
 "metadata": {
  "language_info": {
   "name": "python"
  }
 },
 "nbformat": 4,
 "nbformat_minor": 2
}
