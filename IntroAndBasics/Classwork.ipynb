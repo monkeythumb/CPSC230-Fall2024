{
 "cells": [
  {
   "cell_type": "markdown",
   "metadata": {},
   "source": [
    "## First program: Hello World!"
   ]
  },
  {
   "cell_type": "code",
   "execution_count": 1,
   "metadata": {},
   "outputs": [
    {
     "name": "stdout",
     "output_type": "stream",
     "text": [
      "Hello World!\n"
     ]
    }
   ],
   "source": [
    "## Uncomment the following line and run it\n",
    "\n",
    "print(\"Hello World!\")"
   ]
  },
  {
   "cell_type": "markdown",
   "metadata": {},
   "source": [
    "With your groupmates, translate the following base 10 numbers into base 2 numbers (binary) on paper:\n",
    "\n",
    "17\n",
    "\n",
    "16\n",
    "\n",
    "256\n",
    "\n",
    "400\n",
    "\n",
    "2\n",
    "\n",
    "1\n",
    "\n",
    "8\n"
   ]
  },
  {
   "cell_type": "markdown",
   "metadata": {},
   "source": [
    "With your groupmates, translate the following binary numbers into base 10 numbers\n",
    "\n",
    "1\n",
    "\n",
    "10\n",
    "\n",
    "0010\n",
    "\n",
    "10101\n",
    "\n",
    "111110\n",
    "\n",
    "1001001\n"
   ]
  },
  {
   "cell_type": "code",
   "execution_count": null,
   "metadata": {},
   "outputs": [],
   "source": [
    "# 1. Create a variable called number_of_units and set it equal to 3. \n",
    "# Then on the next line, print out number_of_units + 1. What does it print out?\n"
   ]
  },
  {
   "cell_type": "code",
   "execution_count": null,
   "metadata": {},
   "outputs": [],
   "source": [
    "# 2. What's wrong with the following lines of code?\n",
    "\n",
    "\n",
    "x = 5\n",
    "10 = x + x\n"
   ]
  },
  {
   "cell_type": "code",
   "execution_count": null,
   "metadata": {},
   "outputs": [],
   "source": [
    "# 3. What's wrong with the following lines of code?\n",
    "\n",
    "\n",
    "2ndStudent = \"John\"\n"
   ]
  },
  {
   "cell_type": "code",
   "execution_count": null,
   "metadata": {},
   "outputs": [],
   "source": [
    "# 4. What's wrong with the following lines of code? Can you fix it?\n",
    "\n",
    "\n",
    "profession = \"Professor\"\n",
    "\n",
    "print(\"Sam is the \" + profession)\n"
   ]
  },
  {
   "cell_type": "code",
   "execution_count": null,
   "metadata": {},
   "outputs": [],
   "source": [
    "\n",
    "# 5. What does the code below do? Add comments to each\n",
    "# line explaining what it is doing.\n",
    "\n",
    "\n",
    "b = 10\n",
    "h = 3\n",
    "\n",
    "height = b * h\n",
    "\n",
    "height = height/2\n",
    "\n",
    "print(height)\n"
   ]
  },
  {
   "cell_type": "code",
   "execution_count": null,
   "metadata": {},
   "outputs": [],
   "source": [
    "\n",
    "# 6. Come up with the WORST (but technically allowable!!!) python variable name\n",
    "# that you and your group can think of.\n"
   ]
  },
  {
   "cell_type": "markdown",
   "metadata": {},
   "source": [
    "----------------------------------------"
   ]
  },
  {
   "cell_type": "markdown",
   "metadata": {},
   "source": [
    "### Fix the following lines:"
   ]
  },
  {
   "cell_type": "code",
   "execution_count": null,
   "metadata": {},
   "outputs": [],
   "source": [
    "## assign number1 to be 10\n",
    "10 = number1"
   ]
  },
  {
   "cell_type": "code",
   "execution_count": null,
   "metadata": {},
   "outputs": [],
   "source": [
    "## Is there a problem here? If so, fix it.\n",
    "2_number = 2"
   ]
  },
  {
   "cell_type": "code",
   "execution_count": null,
   "metadata": {},
   "outputs": [],
   "source": [
    "## We want to print False because 15 is greater than 10\n",
    "# x = 15\n",
    "# x <        = 10"
   ]
  },
  {
   "cell_type": "code",
   "execution_count": null,
   "metadata": {},
   "outputs": [],
   "source": [
    "# We want a float output of 10.0\n",
    "a = 3\n",
    "b = 7\n",
    "print(a+b)"
   ]
  },
  {
   "cell_type": "markdown",
   "metadata": {},
   "source": [
    "7. Without using Python, figure out the answer to this statement:\n",
    "\n",
    "    4 * 2 * 4 + 6 ** 8 // 2 + 6 - 7 * 9 + (16 + 4)"
   ]
  },
  {
   "cell_type": "code",
   "execution_count": null,
   "metadata": {},
   "outputs": [],
   "source": [
    "# 8. Check your answer using Python.\n",
    "\n",
    "# your code here"
   ]
  },
  {
   "cell_type": "code",
   "execution_count": null,
   "metadata": {},
   "outputs": [],
   "source": [
    "# 9. Rewrite this equation using more parentheses to make it a little\n",
    "# bit clearer what order things are run in.\n",
    "\n",
    "4 * 2 * 4 + 6 ** 8 // 2 + 6 - 7 * 9 + (16 + 4)"
   ]
  },
  {
   "cell_type": "code",
   "execution_count": null,
   "metadata": {},
   "outputs": [],
   "source": [
    "# 10. Using Comparison Operators, make a complicated statement (use at\n",
    "#  least 5 operators, repeats allowed) that evaluates to False.\n"
   ]
  },
  {
   "cell_type": "code",
   "execution_count": null,
   "metadata": {},
   "outputs": [],
   "source": [
    "# 11. What happens when you turn True into an int?\n",
    "#    What happens when you turn False into an int?\n",
    "#    Why is this beneficial?"
   ]
  },
  {
   "cell_type": "code",
   "execution_count": null,
   "metadata": {},
   "outputs": [],
   "source": [
    "# 12. Using modulo, check whether 1069 is even."
   ]
  },
  {
   "cell_type": "code",
   "execution_count": null,
   "metadata": {},
   "outputs": [],
   "source": [
    "'''\n",
    "13. Using your operators (%,/,//,*), write some code to convert an amount of\n",
    "time in minutes (e.g. 257) to hours and minutes (e.g. 4 hours and 17 minutes).\n",
    "Print out the numbers of hours/minutes in the form \"X hours, Y minutes\".\n",
    "Try it with multiple values:\n",
    "- 12,938 (answer: 215 hours, 38 minutes)\n",
    "- 55 (answer: 0 hours, 55 minutes)\n",
    "- 525,600 (answer: 8760 hours, 0 minutes )\n",
    "- 432 (answer: 7 hours, 12 minutes)\n",
    "'''\n",
    "\n",
    "m = 12938\n",
    "\n"
   ]
  },
  {
   "cell_type": "code",
   "execution_count": null,
   "metadata": {},
   "outputs": [],
   "source": [
    "'''\n",
    "14. Write some code that uses two separate input functions to ask\n",
    "the user for the time of day in military time (24 hour time)\n",
    "by asking FIRST for the hour, then SECOND asking for the minutes.\n",
    "E.g. for the time 13:25 the user should enter 13 for the first input\n",
    "statement, and 25 for the second.\n",
    "Use your operators to convert from military time to AM/PM time\n",
    "(e.g. 13:25 should be converted to 1:25).\n",
    "'''\n",
    "mil_hours = int(input(\"Hours: \"))\n",
    "mil_mins = int(input(\"Mins: \"))\n",
    "\n",
    "# your code here"
   ]
  },
  {
   "cell_type": "markdown",
   "metadata": {},
   "source": [
    "---------------------------------------------------------"
   ]
  },
  {
   "cell_type": "code",
   "execution_count": null,
   "metadata": {},
   "outputs": [],
   "source": [
    "# 15. The == is the \"equal to\" operator, and it returns True if two objects\n",
    "# are equal, and False if they are not (see below for examples). Add a\n",
    "# line of code to check if the Boolean True is equal to 1.\n",
    "\n",
    "# examples\n",
    "1 == 2 # False\n",
    "3 <= 10 # True\n",
    "\n",
    "# your code here\n"
   ]
  },
  {
   "cell_type": "code",
   "execution_count": null,
   "metadata": {},
   "outputs": [],
   "source": [
    "'''\n",
    "16.  Use Python to cast z into a string. Print type(z) before and after making\n",
    "the change.\n",
    "'''\n",
    "\n",
    "z = 156\n"
   ]
  },
  {
   "cell_type": "code",
   "execution_count": null,
   "metadata": {},
   "outputs": [],
   "source": [
    "\n",
    "'''\n",
    "17. Write some code that uses a boolean operator to check whether\n",
    "7 * 2 + 4 / 9 is bigger than 9 * 10 / 2 + 3 - 4\n",
    "'''\n",
    "\n",
    "x = 7 * 2 + 4 / 9\n",
    "y = 9 * 10 / 2 + 3 - 4\n",
    "\n",
    "# your code here\n"
   ]
  },
  {
   "cell_type": "code",
   "execution_count": null,
   "metadata": {},
   "outputs": [],
   "source": [
    "\n",
    "'''\n",
    "18. With your group, discuss why this code doesn't work, and what\n",
    "would need to be changed to fix it.\n",
    "'''\n",
    "\n",
    "i = input(\"How many times did you workout this week? \")\n",
    "\n",
    "avg = i/7\n",
    "\n",
    "print(avg, \"times a day on average! Cool!\")\n"
   ]
  }
 ],
 "metadata": {
  "kernelspec": {
   "display_name": "Python 3",
   "language": "python",
   "name": "python3"
  },
  "language_info": {
   "codemirror_mode": {
    "name": "ipython",
    "version": 3
   },
   "file_extension": ".py",
   "mimetype": "text/x-python",
   "name": "python",
   "nbconvert_exporter": "python",
   "pygments_lexer": "ipython3",
   "version": "3.12.5"
  }
 },
 "nbformat": 4,
 "nbformat_minor": 2
}
