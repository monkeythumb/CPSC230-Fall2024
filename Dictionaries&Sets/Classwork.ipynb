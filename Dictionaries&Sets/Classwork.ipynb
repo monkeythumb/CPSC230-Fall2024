{
 "cells": [
  {
   "cell_type": "code",
   "execution_count": null,
   "metadata": {},
   "outputs": [],
   "source": [
    "'''\n",
    "1. Find the value associated with the key 3.\n",
    "'''\n",
    "orderedOdds = {1:1,2:3,3:5,4:7,5:9,6:11,7:13,8:14}"
   ]
  },
  {
   "cell_type": "code",
   "execution_count": null,
   "metadata": {},
   "outputs": [],
   "source": [
    "'''\n",
    "2. Add the next key, value pair into the dictionary following the existing pattern.\n",
    "'''"
   ]
  },
  {
   "cell_type": "code",
   "execution_count": null,
   "metadata": {},
   "outputs": [],
   "source": [
    "'''\n",
    "3. Now delete and store the entry with key = 6\n",
    "'''"
   ]
  },
  {
   "cell_type": "code",
   "execution_count": null,
   "metadata": {},
   "outputs": [],
   "source": [
    "'''\n",
    "4. Can you find an easier way to create the original orderedOdds dictionary?\n",
    "Try it!\n",
    "'''"
   ]
  },
  {
   "cell_type": "code",
   "execution_count": null,
   "metadata": {},
   "outputs": [],
   "source": [
    "'''\n",
    "5. Store all of the keys from the given dictionary into a list called object.\n",
    "Store all of the values from the given dictionary into a list called properties.\n",
    "What kind of list is properties?\n",
    "'''\n",
    "coolThings = {\"Basketball\": [\"round\", \"bouncy\", \"rough\", \"spherical\"],\n",
    "              \"Towel\": [\"soft\", \"striped\", \"rectangular\"],\n",
    "              \"Chair\": [\"cushy\", \"supportive\", \"brown\", \"expensive\", \"metal\", \"solid\"],\n",
    "              \"Leaf\": [\"small\", \"green\", \"essential\", \"prickly\"],\n",
    "              \"Bottle\": [\"insulated\", \"handy\", \"container\", \"metal\"]}"
   ]
  },
  {
   "cell_type": "code",
   "execution_count": null,
   "metadata": {},
   "outputs": [],
   "source": [
    "'''\n",
    "6. Find the object with the most properties associated with it (not simply by looking at the list).\n",
    "Store that property string in a new variable, importantObject.\n",
    "Then, add another relevant property to the values list associated with importantObject in the dictionary.\n",
    "'''"
   ]
  },
  {
   "cell_type": "code",
   "execution_count": 3,
   "metadata": {},
   "outputs": [
    {
     "name": "stdout",
     "output_type": "stream",
     "text": [
      "{'Breaking Bad', 'The Good Place', 'You', 'The Witcher', 'Arrested Development', 'Uncut Gems', 'The Lorax', 'The Great British Baking Show', 'Riverdale'}\n"
     ]
    }
   ],
   "source": [
    "'''\n",
    "7. Using the three lists below, figure out which shows/movies are\n",
    "\n",
    "- only on netflix and no other platform\n",
    "- only on hulu and no other platform\n",
    "- on both netflix and hulu\n",
    "- are on netflix, hulu, and amazon_prime\n",
    "- are unique to their platform (e.g. shows/movies that only appear on one platform)\n",
    "\n",
    "Hint: Lists do not have the same operations as sets.\n",
    "'''\n",
    "netflix = [\"Seinfeld\", \"The Great British Baking Show\", \"The Good Place\", \"Greys Anatomy\", \"Friends\",\n",
    "\"You\", \"Arrested Development\", \"The Witcher\", \"Riverdale\", \"Uncut Gems\", \"The Lorax\", \"Breaking Bad\", \"The Office\"]\n",
    "hulu = [\"Seinfeld\", \"Greys Anatomy\", \"Friends\", \"The Good Doctor\", \"The Office\", \"Bob's Burgers\", \"Cougar Town\", \"The Simpsons\",\n",
    "\"Superstore\", \"It's Always Sunny in Philidelphia\", \"Desperate Housewives\", \"Futurama\", \"Frasier\", \"Shrek\", \"Parasite\"]\n",
    "amazon_prime = [\"Seinfeld\", \"Spongebob\", \"Dexter\", \"Midsommar\", \"The Princess Bride\", \"Cast Away\", \"The Tomorrow War\", \"House MD\", \"Fight Club\",\n",
    "\"Mrs. Doubtfire\", \"The Office\", \"The Simpsons\", \"Friends\"]"
   ]
  },
  {
   "cell_type": "code",
   "execution_count": null,
   "metadata": {},
   "outputs": [],
   "source": [
    "'''\n",
    "8. The list of dictionaries below contains information about different (fake) countries,\n",
    "but not all the country dictionaries have the same keys!\n",
    "\n",
    "Loop through the dictionaries and using the in operator, find:\n",
    "- the mean GDP for all countries\n",
    "- the # of flu cases per capita (per person)\n",
    "- the average unemployment rate for countries with and without national/socialized healthcare.\n",
    "\n",
    "If a country does not have the pertinent key, do not include it in the above\n",
    "calculations.\n",
    "'''\n",
    "countries = [\n",
    "{\"name\": \"Igui\" , \"GDP (in millions)\": 26656766, \"unemployment rate\": 4.88,\n",
    "\"number of flu cases (2020)\": 189234, \"population\": 1439323776,\n",
    "\"socialized healthcare\": True, \"national language\": \"English\",\n",
    "\"life expectancy\": 78.6, \"CO2 emissions (in tons)\": 15.12},\n",
    "\n",
    "{\"name\": \"Central Ini\" , \"GDP (in millions)\": 3231927, \"unemployment rate\": 5.27,\n",
    "\"population\": 206139589,\n",
    "\"socialized healthcare\": True, \"national language\": \"Nereti\",\n",
    "\"life expectancy\": 75.09, \"CO2 emissions (in tons)\": 12.65},\n",
    "\n",
    "{\"name\": \"Buslandsri\" , \"GDP (in millions)\": 2613797, \"unemployment rate\": 5.33,\n",
    "\"number of flu cases (2020)\": 112389, \"population\": 212559417,\n",
    "\"socialized healthcare\": True, \"national language\": \"Kuunarin\",\n",
    "\"life expectancy\": 74.54, \"CO2 emissions (in tons)\": 10.49},\n",
    "\n",
    "{\"name\":\"Southern Taphi\" , \"GDP (in millions)\": 1705519,\n",
    "\"number of flu cases (2020)\": 169509, \"population\": \t97338579,\n",
    "\"socialized healthcare\": False, \"national language\": \"English\",\n",
    "\"life expectancy\": 80.15, \"CO2 emissions (in tons)\": 9.02},\n",
    "\n",
    "{\"name\": \"Rdanslands Tani\" , \"GDP (in millions)\": 1346225, \"unemployment rate\": 7.62,\n",
    "\"number of flu cases (2020)\": 126832, \"population\": 59308690,\n",
    "\"socialized healthcare\": False, \"national language\": \"Oldian\",\n",
    "\"life expectancy\": 79.81, \"CO2 emissions (in tons)\": 11.15},\n",
    "\n",
    "{\"name\": \"Theri\" , \"unemployment rate\": 2.22,\n",
    "\"number of flu cases (2020)\": 111975,\n",
    "\"socialized healthcare\": True, \"national language\": \"English\",\n",
    "\"life expectancy\": 77.66, \"CO2 emissions (in tons)\": 11.09},\n",
    "\n",
    "{\"name\": \"Marniaxi\", \"GDP (in millions)\": 3231927, \"unemployment rate\": 2.03,\n",
    "\"number of flu cases (2020)\": 219020, \"population\": 83783942,\n",
    "\"socialized healthcare\": False, \"national language\": \"Kuunarin\",\n",
    "\"life expectancy\": 79.24, \"CO2 emissions (in tons)\": 16.13},\n",
    "\n",
    "{\"name\":0 , \"GDP (in millions)\": 1363766,\n",
    "\"number of flu cases (2020)\": 102875, \"population\": \t89561403,\n",
    "\"socialized healthcare\": True, \"national language\": \"Oldian\",\n",
    "\"life expectancy\": 78.12, \"CO2 emissions (in tons)\": 15.81},\n",
    "\n",
    "{\"name\":\"Republic of Stanzacai\" , \"GDP (in millions)\": 1148580, \"unemployment rate\": 5.98,\n",
    "\"number of flu cases (2020)\": 104847, \"population\": 331002651,\n",
    "\"socialized healthcare\": False, \"national language\": \"Aafuznesh\",\n",
    "\"life expectancy\": 77.61, \"CO2 emissions (in tons)\": 9.56},\n",
    "\n",
    "{\"name\": \"Govo Cari\" , \"GDP (in millions)\": 1000617, \"unemployment rate\": 4.31\n",
    ",\n",
    "\"number of flu cases (2020)\": 159028, \"population\": 273523615,\n",
    "\"socialized healthcare\": True, \"national language\": \"English\",\n",
    "\"life expectancy\": 73.24, \"CO2 emissions (in tons)\": 13.7},\n",
    "\n",
    "{\"name\": \"Felandti\", \"GDP (in millions)\": 966485, \"unemployment rate\": 4.88,\n",
    "\"number of flu cases (2020)\": 99287, \"population\": 34813871,\n",
    "\"socialized healthcare\": True, \"national language\": \"Aafuznesh\",\n",
    "\"life expectancy\": 83.41, \"CO2 emissions (in tons)\": 7.81}\n",
    "]\n"
   ]
  }
 ],
 "metadata": {
  "kernelspec": {
   "display_name": "Python 3",
   "language": "python",
   "name": "python3"
  },
  "language_info": {
   "codemirror_mode": {
    "name": "ipython",
    "version": 3
   },
   "file_extension": ".py",
   "mimetype": "text/x-python",
   "name": "python",
   "nbconvert_exporter": "python",
   "pygments_lexer": "ipython3",
   "version": "3.12.5"
  }
 },
 "nbformat": 4,
 "nbformat_minor": 2
}
