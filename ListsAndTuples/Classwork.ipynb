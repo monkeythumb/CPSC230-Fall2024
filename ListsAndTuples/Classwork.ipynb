{
 "cells": [
  {
   "cell_type": "code",
   "execution_count": null,
   "metadata": {},
   "outputs": [],
   "source": [
    "'''\n",
    "1. Create an empty list.\n",
    "Check its data type and its size\n",
    "'''"
   ]
  },
  {
   "cell_type": "code",
   "execution_count": null,
   "metadata": {},
   "outputs": [],
   "source": [
    "'''\n",
    "2. Now add 3 floats to the list and find the sum of the new list\n",
    "'''"
   ]
  },
  {
   "cell_type": "code",
   "execution_count": null,
   "metadata": {},
   "outputs": [],
   "source": [
    "'''\n",
    "3. Modify the list below to give the square root of each number in the list\n",
    "'''\n",
    "nums = [144, 169, 64, 225, 625, 49, 400]"
   ]
  },
  {
   "cell_type": "code",
   "execution_count": null,
   "metadata": {},
   "outputs": [],
   "source": [
    "'''\n",
    "4. Create a 2D Chess Board using lists.\n",
    "Add the starting pieces onto their correct locations for white and black.\n",
    "Denote them like this:\n",
    "wR (white rook), wKni (white knight), wB (white bishop), wKng (white king), wQ (white queen), wP (white pawn) ; bR (black rook) ...\n",
    "If you are unfamiliar with the board and pieces, google them.\n",
    "Think about how you would move a pawn up one or two spaces. (You don't actually have to do this)\n",
    "'''"
   ]
  },
  {
   "cell_type": "code",
   "execution_count": null,
   "metadata": {},
   "outputs": [],
   "source": [
    "'''\n",
    "5. Change the item at the 0'th index of my_list to be \"sun\".\n",
    "'''\n",
    "i = 0\n",
    "my_list = [\"rain\", \"vans\", \"netflix\", \"pluots\", \"blankets\", \"matcha\", \"frasier\"]\n",
    "while i < len(my_list):\n",
    "    print(\"I like \" + my_list[i])\n",
    "\n",
    "# Your Code Here\n"
   ]
  },
  {
   "cell_type": "code",
   "execution_count": null,
   "metadata": {},
   "outputs": [],
   "source": [
    "\n",
    "'''\n",
    "6. Change the item at the 0'th index of my_tup to be \"sun\" the same way.\n",
    "Does it work? Why?\n",
    "'''\n",
    "\n",
    "my_tup = (\"rain\", \"vans\", \"netflix\", \"pluots\", \"blankets\", \"matcha\", \"frasier\")\n"
   ]
  },
  {
   "cell_type": "code",
   "execution_count": null,
   "metadata": {},
   "outputs": [],
   "source": [
    "'''\n",
    "7. Imagine a game where you are 100m above the ground on a platform. There are two columns\n",
    "of 10 glass panes in front of you, 10 on the right and 10 on the left. At each of the 10 steps,\n",
    "one glass pane is solid and will hold your weight. The other will break the moment you step on it,\n",
    "sending you plummeting to the floor below. :(\n",
    "\n",
    "Using the code below, finish the function bridge_crosser() which does not take in any arguments. The\n",
    "code below (written for you) generates a random list of 0's and 1's, representing whether the solid\n",
    "glass is on the right (1) or the left (0), and stores it in the list bridge.\n",
    "\n",
    "Ask the user to indicate whether they want to go right ('r') or left ('l'), and at each step, tell\n",
    "them whether they died or chose the solid panel and lived (SO FAR...). (Make sure that the inputted\n",
    "case of the l or r doesn't matter)\n",
    "\n",
    "If they make it across the bridge, print a congratulatory message!\n",
    "\n",
    "'''\n",
    "import random\n",
    "\n",
    "def bridge_crosser():\n",
    "\n",
    "    # list of 0's and 1's, 1 means right side is solid,\n",
    "    # 0 means left side is solid\n",
    "    bridge = [random.randint(0,1) for i in range(0,10)]\n",
    "    print(bridge)\n",
    "\n",
    "    # your code here #\n"
   ]
  },
  {
   "cell_type": "code",
   "execution_count": null,
   "metadata": {},
   "outputs": [],
   "source": [
    "\n",
    "'''\n",
    "8. Modify your bridge_crosser() function to also count the number of successful\n",
    "steps the player made, and return that integer.\n",
    "'''"
   ]
  },
  {
   "cell_type": "code",
   "execution_count": null,
   "metadata": {},
   "outputs": [],
   "source": [
    "'''\n",
    "9. Modify your bridge_crosser() function *again*\n",
    "so that it returns a list with two things:\n",
    "at index 0, it returns the # of successful steps,\n",
    "\n",
    "and at index 1, it returns a list of the successful steps made\n",
    "(e.g. [\"l\", \"r\", \"l\", \"l\"]).\n",
    "\n",
    "So the output of the function could look something like this if the player made\n",
    "4 successful steps:\n",
    "\n",
    "# output\n",
    "[4, ['l', 'r', 'r', 'r']]\n",
    "\n",
    "'''\n",
    "\n",
    "# let's talk about how we formed bridge!\n",
    "\n",
    "import random\n",
    "\n",
    "def bridge_crosser():\n",
    "\n",
    "    # list of 0's and 1's, 1 means right side is solid,\n",
    "    # 0 means left side is solid\n",
    "    bridge = [random.randint(0,1) for i in range(0,10)]\n",
    "    print(bridge)\n",
    "\n",
    "    # your code here #\n",
    "    safe_steps = 0\n",
    "    for pane in bridge:\n",
    "        choice = input(\"Would you like to go left or right?\").lower()\n",
    "\n",
    "        if choice == \"r\" and pane == 1:\n",
    "            print(\"PHEW, safe\")\n",
    "            safe_steps += 1\n",
    "        elif choice == \"l\" and pane == 0:\n",
    "            print(\"PHEW, safe\")\n",
    "            safe_steps += 1\n",
    "        else:\n",
    "            print(\"Oh no, you fell\")\n",
    "            break\n",
    "    else:\n",
    "        print(\"CONGRATUALTIONS! You Made it Out.\")\n",
    "    return(safe_steps)"
   ]
  },
  {
   "cell_type": "code",
   "execution_count": null,
   "metadata": {},
   "outputs": [],
   "source": [
    "'''\n",
    "10. Turn the following for loops into list comprehensions\n",
    "'''\n",
    "\n",
    "l = []\n",
    "for i in range(0,10):\n",
    "    l.append(i**2)\n",
    "\n",
    "\n",
    "for person in people:\n",
    "    print(person + \" is silly\")\n",
    "\n",
    "\n",
    "def perfect(n):\n",
    "    factors = 1\n",
    "\n",
    "    for i in range(1,n):\n",
    "        if n%i == 0:\n",
    "            factors *= i\n",
    "    if factors == n:\n",
    "        return(True)\n",
    "    else:\n",
    "        return(False)\n",
    "\n",
    "is_perf = []\n",
    "for j in range(1,26):\n",
    "    is_perf.append(perfect(j))"
   ]
  }
 ],
 "metadata": {
  "language_info": {
   "name": "python"
  }
 },
 "nbformat": 4,
 "nbformat_minor": 2
}
