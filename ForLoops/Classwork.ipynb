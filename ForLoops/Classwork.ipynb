{
 "cells": [
  {
   "cell_type": "code",
   "execution_count": null,
   "metadata": {},
   "outputs": [],
   "source": [
    "'''\n",
    "1. Using a for loop, print out all of grades for a given student\n",
    "'''\n",
    "grades = [\"A\", \"A-\", \"B-\", \"A\", \"B+\"]"
   ]
  },
  {
   "cell_type": "code",
   "execution_count": null,
   "metadata": {},
   "outputs": [],
   "source": [
    "'''\n",
    "2. Using a for loop, find all of the prime numbers between 1 and 100.\n",
    "Remember, prime numbers are only divisible by 1 and itself.\n",
    "'''\n",
    "for i in range(0,101):\n",
    "    "
   ]
  },
  {
   "cell_type": "code",
   "execution_count": null,
   "metadata": {},
   "outputs": [],
   "source": [
    "'''\n",
    "3. Print out a blank tic-tac-toe board, using '-'s as the blank spots.\n",
    "Hint: Use nested for loops\n",
    "'''"
   ]
  },
  {
   "cell_type": "code",
   "execution_count": null,
   "metadata": {},
   "outputs": [],
   "source": [
    "'''\n",
    "4. Have the user enter a word.\n",
    "To be an annoying programmer, repeat the input they gave you as many times as there\n",
    "are characters in the word. Add a newline after each time you print the word.\n",
    "Then print: \"Ha! I got you!\"\n",
    "'''"
   ]
  },
  {
   "cell_type": "code",
   "execution_count": null,
   "metadata": {},
   "outputs": [],
   "source": [
    "'''\n",
    "5. A perfect number is defined as a number whos factors (other than itself)\n",
    "add up to itself. For example, 6 is a perfect number because its factors\n",
    "1,2 and 3 add up to 6.\n",
    "\n",
    "A deficient number is one where the sum of its factors (other than itself)\n",
    "is LESS than itself. For example, 8 (1,2,4), or 9 (1,3).\n",
    "\n",
    "An abundant number is one where the sum of its factors (other than itself)\n",
    "is GREATER than itself. For example 12 (1,2,3,4,6).\n",
    "\n",
    "Write a python script that checks whether a number, x, is perfect, deficient,\n",
    "or abundant.\n",
    "'''"
   ]
  },
  {
   "cell_type": "code",
   "execution_count": null,
   "metadata": {},
   "outputs": [],
   "source": [
    "'''\n",
    "6. Based on the given terminal output, can you give me the code that could produce it.\n",
    "Hint: There are multiple correct answers.\n",
    "'''\n",
    "# 20,1,19,2,18,3,17,4,16,5,15,6,14,7,13,8,12,9,11,10,10,11,9,12,8,13,7,14,6,15,5,16,4,17,3,18,2,19,1,20,\n"
   ]
  },
  {
   "cell_type": "code",
   "execution_count": null,
   "metadata": {},
   "outputs": [],
   "source": [
    "'''\n",
    "7. Re-write this while loop as a For Loop.\n",
    "'''\n",
    "\n",
    "'''\n",
    "i = 0\n",
    "word = \"fnkwejnfoijfowijoijwoeirj\"\n",
    "while i < len(word):\n",
    "    print(word[i])\n",
    "    if word[i] == \"e\":\n",
    "        print(\"OH NO I'M SCARED OF E!!!!!!\")\n",
    "        break\n",
    "    else:\n",
    "        i += 1\n",
    "'''"
   ]
  }
 ],
 "metadata": {
  "kernelspec": {
   "display_name": "Python 3",
   "language": "python",
   "name": "python3"
  },
  "language_info": {
   "codemirror_mode": {
    "name": "ipython",
    "version": 3
   },
   "file_extension": ".py",
   "mimetype": "text/x-python",
   "name": "python",
   "nbconvert_exporter": "python",
   "pygments_lexer": "ipython3",
   "version": "3.12.5"
  }
 },
 "nbformat": 4,
 "nbformat_minor": 2
}
